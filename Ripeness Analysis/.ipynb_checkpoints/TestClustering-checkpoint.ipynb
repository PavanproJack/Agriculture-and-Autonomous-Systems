{
 "cells": [
  {
   "cell_type": "code",
   "execution_count": 37,
   "metadata": {},
   "outputs": [],
   "source": [
    "from sklearn.cluster import KMeans\n",
    "import matplotlib.pyplot as plt\n",
    "import argparse\n",
    "import numpy as np\n",
    "import cv2"
   ]
  },
  {
   "cell_type": "code",
   "execution_count": 4,
   "metadata": {},
   "outputs": [],
   "source": [
    "def centroid_histogram(clt):\n",
    "\t# grab the number of different clusters and create a histogram\n",
    "\t# based on the number of pixels assigned to each cluster\n",
    "\tnumLabels = np.arange(0, len(np.unique(clt.labels_)) + 1)\n",
    "\t(hist, _) = np.histogram(clt.labels_, bins = numLabels)\n",
    "\t# normalize the histogram, such that it sums to one\n",
    "\thist = hist.astype(\"float\")\n",
    "\thist /= hist.sum()\n",
    "\t# return the histogram\n",
    "\treturn hist"
   ]
  },
  {
   "cell_type": "code",
   "execution_count": 35,
   "metadata": {},
   "outputs": [],
   "source": [
    "def plot_colors(hist, centroids):\n",
    "\t# initialize the bar chart representing the relative frequency\n",
    "\t# of each of the colors\n",
    "\tbar = np.zeros((50, 300, 3), dtype = \"uint8\")\n",
    "\tstartX = 0\n",
    "\t# loop over the percentage of each cluster and the color of\n",
    "\t# each cluster\n",
    "\tfor (percent, color) in zip(hist, centroids):\n",
    "\t\t# plot the relative percentage of each cluster\n",
    "\t\tendX = startX + (percent * 300)\n",
    "\t\tcv2.rectangle(bar, (int(startX), 0), (int(endX), 50),\n",
    "\t\t\tcolor.astype(\"uint8\").tolist(), -1)\n",
    "\t\tstartX = endX\n",
    "\t\n",
    "\t# return the bar chart\n",
    "\treturn bar"
   ]
  },
  {
   "cell_type": "code",
   "execution_count": 8,
   "metadata": {},
   "outputs": [],
   "source": [
    "def show(image):\n",
    "    # Figure size in inches\n",
    "    plt.figure(figsize=(15, 15))\n",
    "    plt.imshow(image, interpolation='nearest')"
   ]
  },
  {
   "cell_type": "code",
   "execution_count": 138,
   "metadata": {
    "scrolled": true
   },
   "outputs": [
    {
     "data": {
      "image/png": "[encoded data removed]",
      "text/plain": [
       "<Figure size 1080x1080 with 1 Axes>"
      ]
     },
     "metadata": {
      "needs_background": "light"
     },
     "output_type": "display_data"
    },
    {
     "data": {
      "image/png": "[encoded data removed]",
      "text/plain": [
       "<Figure size 432x288 with 1 Axes>"
      ]
     },
     "metadata": {
      "needs_background": "light"
     },
     "output_type": "display_data"
    }
   ],
   "source": [
    "imagePath = \"./Images/MaskedImages/mango_img_702_output.png\"\n",
    "image = cv2.imread(imagePath)\n",
    "image = cv2.cvtColor(image, cv2.COLOR_BGR2YCrCb)\n",
    "image = image[190:240, 340:380]  #702\n",
    "#image = image[240:340, 400:]  #703\n",
    "#image = image[330:400, 300:400]  #793\n",
    "#image = image[250:320, 280:330]  #952\n",
    "\n",
    "image = cv2.GaussianBlur(image, (7, 7), 0)\n",
    "show(image)\n",
    "#show(image)\n",
    "\n",
    "# reshape the image to be a list of pixels\n",
    " \n",
    "image = image.reshape((image.shape[0] * image.shape[1], 3))\n",
    "\n",
    "\n",
    "\n",
    "# cluster the pixel intensities\n",
    "clt = KMeans(n_clusters = 10)\n",
    "clt.fit(image)\n",
    "\n",
    "# build a histogram of clusters and then create a figure\n",
    "# representing the number of pixels labeled to each color\n",
    "hist = centroid_histogram(clt)\n",
    "bar = plot_colors(hist, clt.cluster_centers_)\n",
    "# show our color bart\n",
    "plt.figure()\n",
    "plt.axis(\"off\")\n",
    "plt.imshow(bar)\n",
    "plt.show()\n"
   ]
  },
  {
   "cell_type": "code",
   "execution_count": 139,
   "metadata": {},
   "outputs": [],
   "source": [
    "def showClusters():\n",
    "    path = \"./Images/MaskedImages/mango_img_702_output.png\"\n",
    "    \n",
    "    colorSpace = [cv2.COLOR_BGR2RGB, cv2.COLOR_BGR2HSV, cv2.COLOR_BGR2LAB, cv2.COLOR_BGR2YCrCb]\n",
    "    \n",
    "    for num, cs in colorSpace:\n",
    "        image = cv2.imread(path)\n",
    "        image = cv2.cvtColor(image, colorSpace[num])\n",
    "        image = cv2.GaussianBlur(image, (7, 7), 0)\n",
    "        #show(image) \n",
    "        image = image.reshape((image.shape[0] * image.shape[1], 3))\n",
    "\n",
    "        # cluster the pixel intensities\n",
    "        clt = KMeans(n_clusters = 10)\n",
    "        clt.fit(image)\n",
    "\n",
    "        # build a histogram of clusters and then create a figure\n",
    "        # representing the number of pixels labeled to each color\n",
    "        hist = centroid_histogram(clt)\n",
    "        bar = plot_colors(hist, clt.cluster_centers_)\n",
    "        # show our color bart\n",
    "        plt.figure()\n",
    "        plt.subplot(2, 6 , num+1)\n",
    "        plt.axis(\"off\")\n",
    "        plt.imshow(bar)\n",
    "        plt.show()\n",
    "    "
   ]
  },
  {
   "cell_type": "code",
   "execution_count": 140,
   "metadata": {},
   "outputs": [
    {
     "ename": "TypeError",
     "evalue": "cannot unpack non-iterable int object",
     "output_type": "error",
     "traceback": [
      "\u001b[0;31m---------------------------------------------------------------------------\u001b[0m",
      "\u001b[0;31mTypeError\u001b[0m                                 Traceback (most recent call last)",
      "\u001b[0;32m<ipython-input-140-4befeb7fd9b5>\u001b[0m in \u001b[0;36m<module>\u001b[0;34m\u001b[0m\n\u001b[0;32m----> 1\u001b[0;31m \u001b[0mshowClusters\u001b[0m\u001b[0;34m(\u001b[0m\u001b[0;34m)\u001b[0m\u001b[0;34m\u001b[0m\u001b[0;34m\u001b[0m\u001b[0m\n\u001b[0m",
      "\u001b[0;32m<ipython-input-139-4ab44f76711f>\u001b[0m in \u001b[0;36mshowClusters\u001b[0;34m()\u001b[0m\n\u001b[1;32m      4\u001b[0m     \u001b[0mcolorSpace\u001b[0m \u001b[0;34m=\u001b[0m \u001b[0;34m[\u001b[0m\u001b[0mcv2\u001b[0m\u001b[0;34m.\u001b[0m\u001b[0mCOLOR_BGR2RGB\u001b[0m\u001b[0;34m,\u001b[0m \u001b[0mcv2\u001b[0m\u001b[0;34m.\u001b[0m\u001b[0mCOLOR_BGR2HSV\u001b[0m\u001b[0;34m,\u001b[0m \u001b[0mcv2\u001b[0m\u001b[0;34m.\u001b[0m\u001b[0mCOLOR_BGR2LAB\u001b[0m\u001b[0;34m,\u001b[0m \u001b[0mcv2\u001b[0m\u001b[0;34m.\u001b[0m\u001b[0mCOLOR_BGR2YCrCb\u001b[0m\u001b[0;34m]\u001b[0m\u001b[0;34m\u001b[0m\u001b[0;34m\u001b[0m\u001b[0m\n\u001b[1;32m      5\u001b[0m \u001b[0;34m\u001b[0m\u001b[0m\n\u001b[0;32m----> 6\u001b[0;31m     \u001b[0;32mfor\u001b[0m \u001b[0mnum\u001b[0m\u001b[0;34m,\u001b[0m \u001b[0mcs\u001b[0m \u001b[0;32min\u001b[0m \u001b[0mcolorSpace\u001b[0m\u001b[0;34m:\u001b[0m\u001b[0;34m\u001b[0m\u001b[0;34m\u001b[0m\u001b[0m\n\u001b[0m\u001b[1;32m      7\u001b[0m         \u001b[0mimage\u001b[0m \u001b[0;34m=\u001b[0m \u001b[0mcv2\u001b[0m\u001b[0;34m.\u001b[0m\u001b[0mimread\u001b[0m\u001b[0;34m(\u001b[0m\u001b[0mpath\u001b[0m\u001b[0;34m)\u001b[0m\u001b[0;34m\u001b[0m\u001b[0;34m\u001b[0m\u001b[0m\n\u001b[1;32m      8\u001b[0m         \u001b[0mimage\u001b[0m \u001b[0;34m=\u001b[0m \u001b[0mcv2\u001b[0m\u001b[0;34m.\u001b[0m\u001b[0mcvtColor\u001b[0m\u001b[0;34m(\u001b[0m\u001b[0mimage\u001b[0m\u001b[0;34m,\u001b[0m \u001b[0mcs\u001b[0m\u001b[0;34m)\u001b[0m\u001b[0;34m\u001b[0m\u001b[0;34m\u001b[0m\u001b[0m\n",
      "\u001b[0;31mTypeError\u001b[0m: cannot unpack non-iterable int object"
     ]
    }
   ],
   "source": [
    "showClusters()"
   ]
  },
  {
   "cell_type": "code",
   "execution_count": null,
   "metadata": {},
   "outputs": [],
   "source": []
  },
  {
   "cell_type": "code",
   "execution_count": null,
   "metadata": {},
   "outputs": [],
   "source": []
  },
  {
   "cell_type": "code",
   "execution_count": null,
   "metadata": {},
   "outputs": [],
   "source": []
  },
  {
   "cell_type": "code",
   "execution_count": null,
   "metadata": {},
   "outputs": [],
   "source": []
  },
  {
   "cell_type": "code",
   "execution_count": null,
   "metadata": {},
   "outputs": [],
   "source": []
  },
  {
   "cell_type": "code",
   "execution_count": null,
   "metadata": {},
   "outputs": [],
   "source": []
  },
  {
   "cell_type": "code",
   "execution_count": null,
   "metadata": {},
   "outputs": [],
   "source": []
  },
  {
   "cell_type": "code",
   "execution_count": null,
   "metadata": {},
   "outputs": [],
   "source": []
  },
  {
   "cell_type": "code",
   "execution_count": null,
   "metadata": {},
   "outputs": [],
   "source": []
  },
  {
   "cell_type": "code",
   "execution_count": null,
   "metadata": {},
   "outputs": [],
   "source": []
  },
  {
   "cell_type": "code",
   "execution_count": null,
   "metadata": {},
   "outputs": [],
   "source": []
  },
  {
   "cell_type": "code",
   "execution_count": null,
   "metadata": {},
   "outputs": [],
   "source": []
  },
  {
   "cell_type": "code",
   "execution_count": null,
   "metadata": {},
   "outputs": [],
   "source": []
  },
  {
   "cell_type": "code",
   "execution_count": null,
   "metadata": {},
   "outputs": [],
   "source": []
  },
  {
   "cell_type": "code",
   "execution_count": null,
   "metadata": {},
   "outputs": [],
   "source": []
  },
  {
   "cell_type": "code",
   "execution_count": null,
   "metadata": {},
   "outputs": [],
   "source": []
  },
  {
   "cell_type": "code",
   "execution_count": null,
   "metadata": {},
   "outputs": [],
   "source": []
  },
  {
   "cell_type": "code",
   "execution_count": null,
   "metadata": {},
   "outputs": [],
   "source": []
  },
  {
   "cell_type": "code",
   "execution_count": null,
   "metadata": {},
   "outputs": [],
   "source": []
  },
  {
   "cell_type": "code",
   "execution_count": null,
   "metadata": {},
   "outputs": [],
   "source": []
  },
  {
   "cell_type": "code",
   "execution_count": 117,
   "metadata": {},
   "outputs": [],
   "source": [
    "from collections import namedtuple\n",
    "from math import sqrt\n",
    "import random\n",
    "try:\n",
    "    import Image\n",
    "except ImportError:\n",
    "    from PIL import Image\n",
    "\n",
    "Point = namedtuple('Point', ('coords', 'n', 'ct'))\n",
    "Cluster = namedtuple('Cluster', ('points', 'center', 'n'))\n",
    "\n",
    "def get_points(img):\n",
    "    points = []\n",
    "    w, h = img.size\n",
    "    for count, color in img.getcolors(w * h):\n",
    "        points.append(Point(color, 3, count))\n",
    "    return points\n",
    "\n",
    "rtoh = lambda rgb: '#%s' % ''.join(('%02x' % p for p in rgb))\n",
    "\n",
    "\n",
    "\n",
    "def colorz(filename, n=4):\n",
    "    img = Image.open(filename)\n",
    "    img.thumbnail((200, 200))\n",
    "    w, h = img.size\n",
    "\n",
    "    points = get_points(img)\n",
    "    clusters = kmeans(points, n, 1)\n",
    "    rgbs = [map(int, c.center.coords) for c in clusters]\n",
    "    \n",
    "    return list(map(rtoh, rgbs))\n",
    "\n",
    "def euclidean(p1, p2):\n",
    "    return sqrt(sum([\n",
    "        (p1.coords[i] - p2.coords[i]) ** 2 for i in range(p1.n)\n",
    "    ]))\n",
    "\n",
    "def calculate_center(points, n):\n",
    "    vals = [0.0 for i in range(n)]\n",
    "    plen = 0\n",
    "    for p in points:\n",
    "        plen += p.ct\n",
    "        for i in range(n):\n",
    "            vals[i] += (p.coords[i] * p.ct)\n",
    "    return Point([(v / plen) for v in vals], n, 1)\n",
    "\n",
    "def kmeans(points, k, min_diff):\n",
    "    clusters = [Cluster([p], p, p.n) for p in random.sample(points, k)]\n",
    "\n",
    "    while 1:\n",
    "        plists = [[] for i in range(k)]\n",
    "\n",
    "        for p in points:\n",
    "            smallest_distance = float('Inf')\n",
    "            for i in range(k):\n",
    "                distance = euclidean(p, clusters[i].center)\n",
    "                if distance < smallest_distance:\n",
    "                    smallest_distance = distance\n",
    "                    idx = i\n",
    "            plists[idx].append(p)\n",
    "\n",
    "        diff = 0\n",
    "        for i in range(k):\n",
    "            old = clusters[i]\n",
    "            center = calculate_center(plists[i], old.n)\n",
    "            new = Cluster(plists[i], center, old.n)\n",
    "            clusters[i] = new\n",
    "            diff = max(diff, euclidean(old.center, new.center))\n",
    "\n",
    "        if diff < min_diff:\n",
    "            break\n",
    "\n",
    "    return clusters"
   ]
  },
  {
   "cell_type": "code",
   "execution_count": 118,
   "metadata": {},
   "outputs": [
    {
     "data": {
      "text/plain": [
       "['#221e17', '#3e3125', '#795342', '#000000']"
      ]
     },
     "execution_count": 118,
     "metadata": {},
     "output_type": "execute_result"
    }
   ],
   "source": [
    "imagePath_1 = \"./Images/MaskedImages/mango_img_909_output.png\"\n",
    "#image_1 = cv2.imread(imagePath_1)\n",
    "#image_1 = cv2.cvtColor(image_1, cv2.COLOR_BGR2RGB)\n",
    "#image_1 = image[190:240, 340:380]\n",
    "#show(image_1)\n",
    "colorz(imagePath_1)"
   ]
  },
  {
   "cell_type": "code",
   "execution_count": null,
   "metadata": {},
   "outputs": [],
   "source": []
  }
 ],
 "metadata": {
  "kernelspec": {
   "display_name": "Python 3",
   "language": "python",
   "name": "python3"
  },
  "language_info": {
   "codemirror_mode": {
    "name": "ipython",
    "version": 3
   },
   "file_extension": ".py",
   "mimetype": "text/x-python",
   "name": "python",
   "nbconvert_exporter": "python",
   "pygments_lexer": "ipython3",
   "version": "3.8.3"
  }
 },
 "nbformat": 4,
 "nbformat_minor": 4
}
